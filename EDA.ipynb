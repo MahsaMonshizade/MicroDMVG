{
 "cells": [
  {
   "cell_type": "code",
   "execution_count": 10,
   "metadata": {},
   "outputs": [],
   "source": [
    "from einops import rearrange, repeat\n",
    "import scipy.io as io\n",
    "import numpy as np\n",
    "import torch\n",
    "from torch.utils.data import TensorDataset, DataLoader"
   ]
  },
  {
   "cell_type": "code",
   "execution_count": 9,
   "metadata": {},
   "outputs": [],
   "source": [
    "x0=np.load(f\"./data/AE_carl_view0.npy\")\n",
    "x1=np.load(f\"./data/AE_carl_view1.npy\")\n",
    "x2=np.load(f\"./data/AE_carl_view2.npy\")"
   ]
  },
  {
   "cell_type": "code",
   "execution_count": 14,
   "metadata": {},
   "outputs": [
    {
     "data": {
      "text/plain": [
       "numpy.ndarray"
      ]
     },
     "execution_count": 14,
     "metadata": {},
     "output_type": "execute_result"
    }
   ],
   "source": [
    "print(\"Shape:\", array.shape)\n",
    "print(\"Size:\", array.size)\n",
    "print(\"Data type:\", array.dtype)\n",
    "print(\"Type:\", type(array))\n",
    "print(\"Mean:\", np.mean(array))\n",
    "print(\"Standard Deviation:\", np.std(array))\n",
    "print(\"Min:\", np.min(array))\n",
    "print(\"Max:\", np.max(array))"
   ]
  },
  {
   "cell_type": "code",
   "execution_count": 15,
   "metadata": {},
   "outputs": [
    {
     "name": "stdout",
     "output_type": "stream",
     "text": [
      "Number of rows with all zeros: 0\n"
     ]
    }
   ],
   "source": [
    "all_zeros_mask = np.all(x0 == 0, axis=1)\n",
    "\n",
    "# Count the number of rows where the mask is True\n",
    "num_rows_all_zeros = np.sum(all_zeros_mask)\n",
    "\n",
    "print(f\"Number of rows with all zeros: {num_rows_all_zeros}\")"
   ]
  }
 ],
 "metadata": {
  "kernelspec": {
   "display_name": "dmvg",
   "language": "python",
   "name": "python3"
  },
  "language_info": {
   "codemirror_mode": {
    "name": "ipython",
    "version": 3
   },
   "file_extension": ".py",
   "mimetype": "text/x-python",
   "name": "python",
   "nbconvert_exporter": "python",
   "pygments_lexer": "ipython3",
   "version": "3.8.19"
  }
 },
 "nbformat": 4,
 "nbformat_minor": 2
}
